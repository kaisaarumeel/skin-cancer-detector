{
 "cells": [
  {
   "cell_type": "markdown",
   "metadata": {},
   "source": [
    "## Import dependencies"
   ]
  },
  {
   "cell_type": "code",
   "execution_count": 1,
   "metadata": {},
   "outputs": [],
   "source": [
    "import pandas as pd\n",
    "import numpy as np\n",
    "import sqlite3\n",
    "from PIL import Image\n",
    "from io import BytesIO\n",
    "from sklearn.preprocessing import LabelEncoder"
   ]
  },
  {
   "cell_type": "markdown",
   "metadata": {},
   "source": [
    "## Load data from DB"
   ]
  },
  {
   "cell_type": "code",
   "execution_count": 2,
   "metadata": {},
   "outputs": [
    {
     "name": "stdout",
     "output_type": "stream",
     "text": [
      "           image_id                                              image   age  \\\n",
      "0      ISIC_0027419  b'\\xff\\xd8\\xff\\xdb\\x00C\\x00\\x01\\x01\\x01\\x01\\x0...  80.0   \n",
      "1      ISIC_0025030  b'\\xff\\xd8\\xff\\xdb\\x00C\\x00\\x01\\x01\\x01\\x01\\x0...  80.0   \n",
      "2      ISIC_0026769  b'\\xff\\xd8\\xff\\xdb\\x00C\\x00\\x01\\x01\\x01\\x01\\x0...  80.0   \n",
      "3      ISIC_0025661  b'\\xff\\xd8\\xff\\xdb\\x00C\\x00\\x01\\x01\\x01\\x01\\x0...  80.0   \n",
      "4      ISIC_0031633  b'\\xff\\xd8\\xff\\xdb\\x00C\\x00\\x01\\x01\\x01\\x01\\x0...  75.0   \n",
      "...             ...                                                ...   ...   \n",
      "10010  ISIC_0033084  b'\\xff\\xd8\\xff\\xdb\\x00C\\x00\\x01\\x01\\x01\\x01\\x0...  40.0   \n",
      "10011  ISIC_0033550  b'\\xff\\xd8\\xff\\xdb\\x00C\\x00\\x01\\x01\\x01\\x01\\x0...  40.0   \n",
      "10012  ISIC_0033536  b'\\xff\\xd8\\xff\\xdb\\x00C\\x00\\x01\\x01\\x01\\x01\\x0...  40.0   \n",
      "10013  ISIC_0032854  b'\\xff\\xd8\\xff\\xdb\\x00C\\x00\\x01\\x01\\x01\\x01\\x0...  80.0   \n",
      "10014  ISIC_0032258  b'\\xff\\xd8\\xff\\xdb\\x00C\\x00\\x01\\x01\\x01\\x01\\x0...  70.0   \n",
      "\n",
      "          sex localization lesion_type  \n",
      "0        male        scalp         bkl  \n",
      "1        male        scalp         bkl  \n",
      "2        male        scalp         bkl  \n",
      "3        male        scalp         bkl  \n",
      "4        male          ear         bkl  \n",
      "...       ...          ...         ...  \n",
      "10010    male      abdomen       akiec  \n",
      "10011    male      abdomen       akiec  \n",
      "10012    male      abdomen       akiec  \n",
      "10013    male         face       akiec  \n",
      "10014  female         back         mel  \n",
      "\n",
      "[10015 rows x 6 columns]\n"
     ]
    }
   ],
   "source": [
    "db_path = \"../db_images.sqlite3\"\n",
    "table_name = \"images\"\n",
    "row_limit = None  # Replace None with a specific value if needed\n",
    "start_row = 0  # default is 0\n",
    "\n",
    "\n",
    "def load_data():\n",
    "    # DB connection\n",
    "    connection = sqlite3.connect(db_path)\n",
    "\n",
    "    # Load images\n",
    "    query = f\"SELECT * FROM {table_name}\"\n",
    "    if row_limit:\n",
    "        query += f\" LIMIT {row_limit}\"\n",
    "    if start_row:\n",
    "        query += f\" OFFSET {start_row}\"\n",
    "    query += \";\"\n",
    "\n",
    "    # Load Data into Pandas DataFrame\n",
    "    df = pd.read_sql_query(query, connection)\n",
    "    # Close the Connection\n",
    "    connection.close()\n",
    "    return df\n",
    "    \n",
    "data = load_data()\n",
    "print(data)"
   ]
  },
  {
   "cell_type": "markdown",
   "metadata": {},
   "source": [
    "### cleaning data\n",
    "This function cleans the data by removing any datapoints with empty cells, verifying the correct format of the columns, and eliminating duplicated images in the dataset."
   ]
  },
  {
   "cell_type": "code",
   "execution_count": 3,
   "metadata": {},
   "outputs": [
    {
     "name": "stdout",
     "output_type": "stream",
     "text": [
      "           image_id                                              image   age  \\\n",
      "0      ISIC_0027419  b'\\xff\\xd8\\xff\\xdb\\x00C\\x00\\x01\\x01\\x01\\x01\\x0...  80.0   \n",
      "1      ISIC_0025030  b'\\xff\\xd8\\xff\\xdb\\x00C\\x00\\x01\\x01\\x01\\x01\\x0...  80.0   \n",
      "2      ISIC_0026769  b'\\xff\\xd8\\xff\\xdb\\x00C\\x00\\x01\\x01\\x01\\x01\\x0...  80.0   \n",
      "3      ISIC_0025661  b'\\xff\\xd8\\xff\\xdb\\x00C\\x00\\x01\\x01\\x01\\x01\\x0...  80.0   \n",
      "4      ISIC_0031633  b'\\xff\\xd8\\xff\\xdb\\x00C\\x00\\x01\\x01\\x01\\x01\\x0...  75.0   \n",
      "...             ...                                                ...   ...   \n",
      "10010  ISIC_0033084  b'\\xff\\xd8\\xff\\xdb\\x00C\\x00\\x01\\x01\\x01\\x01\\x0...  40.0   \n",
      "10011  ISIC_0033550  b'\\xff\\xd8\\xff\\xdb\\x00C\\x00\\x01\\x01\\x01\\x01\\x0...  40.0   \n",
      "10012  ISIC_0033536  b'\\xff\\xd8\\xff\\xdb\\x00C\\x00\\x01\\x01\\x01\\x01\\x0...  40.0   \n",
      "10013  ISIC_0032854  b'\\xff\\xd8\\xff\\xdb\\x00C\\x00\\x01\\x01\\x01\\x01\\x0...  80.0   \n",
      "10014  ISIC_0032258  b'\\xff\\xd8\\xff\\xdb\\x00C\\x00\\x01\\x01\\x01\\x01\\x0...  70.0   \n",
      "\n",
      "          sex localization lesion_type  \n",
      "0        male        scalp         bkl  \n",
      "1        male        scalp         bkl  \n",
      "2        male        scalp         bkl  \n",
      "3        male        scalp         bkl  \n",
      "4        male          ear         bkl  \n",
      "...       ...          ...         ...  \n",
      "10010    male      abdomen       akiec  \n",
      "10011    male      abdomen       akiec  \n",
      "10012    male      abdomen       akiec  \n",
      "10013    male         face       akiec  \n",
      "10014  female         back         mel  \n",
      "\n",
      "[9958 rows x 6 columns]\n",
      "           image_id                                              image   age  \\\n",
      "0      ISIC_0027419  b'\\xff\\xd8\\xff\\xdb\\x00C\\x00\\x01\\x01\\x01\\x01\\x0...  80.0   \n",
      "1      ISIC_0025030  b'\\xff\\xd8\\xff\\xdb\\x00C\\x00\\x01\\x01\\x01\\x01\\x0...  80.0   \n",
      "2      ISIC_0026769  b'\\xff\\xd8\\xff\\xdb\\x00C\\x00\\x01\\x01\\x01\\x01\\x0...  80.0   \n",
      "3      ISIC_0025661  b'\\xff\\xd8\\xff\\xdb\\x00C\\x00\\x01\\x01\\x01\\x01\\x0...  80.0   \n",
      "4      ISIC_0031633  b'\\xff\\xd8\\xff\\xdb\\x00C\\x00\\x01\\x01\\x01\\x01\\x0...  75.0   \n",
      "...             ...                                                ...   ...   \n",
      "10010  ISIC_0033084  b'\\xff\\xd8\\xff\\xdb\\x00C\\x00\\x01\\x01\\x01\\x01\\x0...  40.0   \n",
      "10011  ISIC_0033550  b'\\xff\\xd8\\xff\\xdb\\x00C\\x00\\x01\\x01\\x01\\x01\\x0...  40.0   \n",
      "10012  ISIC_0033536  b'\\xff\\xd8\\xff\\xdb\\x00C\\x00\\x01\\x01\\x01\\x01\\x0...  40.0   \n",
      "10013  ISIC_0032854  b'\\xff\\xd8\\xff\\xdb\\x00C\\x00\\x01\\x01\\x01\\x01\\x0...  80.0   \n",
      "10014  ISIC_0032258  b'\\xff\\xd8\\xff\\xdb\\x00C\\x00\\x01\\x01\\x01\\x01\\x0...  70.0   \n",
      "\n",
      "          sex localization lesion_type  \n",
      "0        male        scalp         bkl  \n",
      "1        male        scalp         bkl  \n",
      "2        male        scalp         bkl  \n",
      "3        male        scalp         bkl  \n",
      "4        male          ear         bkl  \n",
      "...       ...          ...         ...  \n",
      "10010    male      abdomen       akiec  \n",
      "10011    male      abdomen       akiec  \n",
      "10012    male      abdomen       akiec  \n",
      "10013    male         face       akiec  \n",
      "10014  female         back         mel  \n",
      "\n",
      "[9724 rows x 6 columns]\n"
     ]
    }
   ],
   "source": [
    "def clean_data(df):\n",
    "    # Drop data points with empty values such as Nan\n",
    "    df.dropna(inplace=True)\n",
    "\n",
    "    # check for the correct format of each property\n",
    "    df[\"sex\"] = df[\"sex\"].str.lower()  # lower case for \"sex\" property\n",
    "    valid_sex = [\"female\", \"male\"]\n",
    "    df = df[df[\"sex\"].isin(valid_sex)]\n",
    "\n",
    "    # check for the localization values\n",
    "    # unique_localizations = df['localization'].unique()\n",
    "    df.loc[:, \"localization\"] = df[\"localization\"].str.lower()\n",
    "    valid_localization = [\n",
    "        \"scalp\",\n",
    "        \"ear\",\n",
    "        \"face\",\n",
    "        \"back\",\n",
    "        \"trunk\",\n",
    "        \"chest\",\n",
    "        \"upper extremity\",\n",
    "        \"abdomen\",\n",
    "        \"lower extremity\",\n",
    "        \"genital\",\n",
    "        \"neck\",\n",
    "        \"hand\",\n",
    "        \"foot\",\n",
    "        \"acral\",\n",
    "    ]\n",
    "    df = df[df[\"localization\"].isin(valid_localization)]\n",
    "\n",
    "    # drop duplicated images\n",
    "    df.drop_duplicates(subset=[\"image\", \"image_id\"], inplace=True, keep=\"last\")\n",
    "\n",
    "    # Clean age with wrong format and wrong range\n",
    "    df[\"age\"] = pd.to_numeric(\n",
    "        df[\"age\"], errors=\"coerce\"\n",
    "    )  # Makes sure Age is a numerical value\n",
    "    df = df[(df[\"age\"] > 0) & (df[\"age\"] <= 120)]\n",
    "\n",
    "    return df\n",
    "\n",
    "cleaned_data = clean_data(data)\n",
    "print(cleaned_data)"
   ]
  },
  {
   "cell_type": "markdown",
   "metadata": {},
   "source": [
    "## Feature extraction and preprocessing function\n",
    "   * The `preprocess_images()` function converts binary images into a modifiable format, resizes them for compatibility with CNNs, and applies random brightness adjustments and mirroring to replicate various angles and lighting conditions that users might upload images under.\n",
    "\n",
    " * The `feautre_preprocessing()` function removes the unuseful features from the dataset, executres the `preprocess_images()` function and applies encoding to features with string values, make them ready to be used by the CNN model\n",
    "\n"
   ]
  },
  {
   "cell_type": "code",
   "execution_count": 4,
   "metadata": {},
   "outputs": [],
   "source": [
    "# function for preprocessing images\n",
    "def preprocess_images(binary_data):\n",
    "    # Load the image from binary data\n",
    "    image = Image.open(BytesIO(binary_data)).convert(\"RGB\")\n",
    "\n",
    "    # Resize the image to 224x224\n",
    "    image = image.resize((224, 224), Image.Resampling.LANCZOS)\n",
    "\n",
    "    # Normalize to [0, 1]\n",
    "    image_array = np.array(image) / 255.0\n",
    "\n",
    "    return image_array\n",
    "\n",
    "\n",
    "def feature_preprocessing(df):\n",
    "    # Discarding the lesion_type feature\n",
    "    df.drop(columns=\"lesion_type\", axis=1, inplace=True)\n",
    "\n",
    "    # dropping image_id column\n",
    "    df.drop(columns=[\"image_id\"], inplace=True)\n",
    "\n",
    "    # Image preprocessing\n",
    "    df[\"image\"] = df[\"image\"].apply(preprocess_images)\n",
    "\n",
    "    # Label encoding the localization feature\n",
    "    encoder = LabelEncoder()\n",
    "    df[\"localization\"] = encoder.fit_transform(df[\"localization\"])\n",
    "    # One-hot encoding sex feature\n",
    "    df_encoded = pd.get_dummies(df, columns=[\"sex\"], dtype=int, drop_first=True)\n",
    "\n",
    "    return df_encoded"
   ]
  },
  {
   "cell_type": "markdown",
   "metadata": {},
   "source": [
    "## Image preprocessing visualization example\n",
    "Here you can see the preprocessing that `preprocess_images()` function does to images for (For purpose of trying out different methods and check the output)"
   ]
  },
  {
   "cell_type": "code",
   "execution_count": 5,
   "metadata": {},
   "outputs": [
    {
     "name": "stdout",
     "output_type": "stream",
     "text": [
      "          image_id                                              image   age  \\\n",
      "1170  ISIC_0033891  b'\\xff\\xd8\\xff\\xdb\\x00C\\x00\\x01\\x01\\x01\\x01\\x0...  35.0   \n",
      "8634  ISIC_0026099  b'\\xff\\xd8\\xff\\xdb\\x00C\\x00\\x01\\x01\\x01\\x01\\x0...  65.0   \n",
      "3950  ISIC_0032056  b'\\xff\\xd8\\xff\\xdb\\x00C\\x00\\x01\\x01\\x01\\x01\\x0...  65.0   \n",
      "1643  ISIC_0032638  b'\\xff\\xd8\\xff\\xdb\\x00C\\x00\\x01\\x01\\x01\\x01\\x0...  35.0   \n",
      "9281  ISIC_0026657  b'\\xff\\xd8\\xff\\xdb\\x00C\\x00\\x01\\x01\\x01\\x01\\x0...  60.0   \n",
      "\n",
      "         sex     localization lesion_type  \\\n",
      "1170  female  lower extremity          df   \n",
      "8634  female             back          nv   \n",
      "3950  female  lower extremity          nv   \n",
      "1643    male             back         mel   \n",
      "9281  female          abdomen          nv   \n",
      "\n",
      "                                       processed_images  \n",
      "1170  [[[0.10196078431372549, 0.047058823529411764, ...  \n",
      "8634  [[[0.6078431372549019, 0.5254901960784314, 0.4...  \n",
      "3950  [[[0.9215686274509803, 0.6313725490196078, 0.6...  \n",
      "1643  [[[0.07450980392156863, 0.043137254901960784, ...  \n",
      "9281  [[[0.0196078431372549, 0.011764705882352941, 0...  \n"
     ]
    }
   ],
   "source": [
    "def show_image_with_pillow(image_array):\n",
    "    image = Image.fromarray((image_array * 255).astype('uint8'))  # Scale back to [0, 255]\n",
    "    image.show()\n",
    "\n",
    "# Randomly sample 100 images\n",
    "subset_df = cleaned_data.sample(n=100, random_state=42)\n",
    "# Preprocess only the sampled subset\n",
    "subset_df['processed_images'] = subset_df['image'].apply(preprocess_images)\n",
    "print(subset_df.head())\n",
    "# Example: View first processed image in the DataFrame\n",
    "show_image_with_pillow(subset_df['processed_images'].iloc[0])\n"
   ]
  },
  {
   "cell_type": "markdown",
   "metadata": {},
   "source": [
    "## Preprocess data \n",
    "Here you can see the output of final step `feature_preprocessing()` function (**Note**: This function is memory intensive and it will be recommended to use it with a small random subset of the data)"
   ]
  },
  {
   "cell_type": "code",
   "execution_count": 6,
   "metadata": {},
   "outputs": [
    {
     "name": "stdout",
     "output_type": "stream",
     "text": [
      "                                                   image   age  localization  \\\n",
      "0      [[[0.7333333333333333, 0.5882352941176471, 0.7...  80.0            11   \n",
      "1      [[[0.09411764705882353, 0.050980392156862744, ...  80.0            11   \n",
      "2      [[[0.7294117647058823, 0.4980392156862745, 0.5...  80.0            11   \n",
      "3      [[[0.09019607843137255, 0.043137254901960784, ...  80.0            11   \n",
      "4      [[[0.48627450980392156, 0.3254901960784314, 0....  75.0             4   \n",
      "...                                                  ...   ...           ...   \n",
      "10010  [[[0.44313725490196076, 0.3568627450980392, 0....  40.0             0   \n",
      "10011  [[[0.01568627450980392, 0.023529411764705882, ...  40.0             0   \n",
      "10012  [[[0.4117647058823529, 0.3568627450980392, 0.3...  40.0             0   \n",
      "10013  [[[0.6078431372549019, 0.45098039215686275, 0....  80.0             5   \n",
      "10014  [[[0.6941176470588235, 0.5647058823529412, 0.4...  70.0             2   \n",
      "\n",
      "       sex_male  \n",
      "0             1  \n",
      "1             1  \n",
      "2             1  \n",
      "3             1  \n",
      "4             1  \n",
      "...         ...  \n",
      "10010         1  \n",
      "10011         1  \n",
      "10012         1  \n",
      "10013         1  \n",
      "10014         0  \n",
      "\n",
      "[9724 rows x 4 columns]\n"
     ]
    }
   ],
   "source": [
    "preprocessed_data = feature_preprocessing(cleaned_data)\n",
    "print(preprocessed_data )"
   ]
  }
 ],
 "metadata": {
  "kernelspec": {
   "display_name": "Python 3 (ipykernel)",
   "language": "python",
   "name": "python3"
  },
  "language_info": {
   "codemirror_mode": {
    "name": "ipython",
    "version": 3
   },
   "file_extension": ".py",
   "mimetype": "text/x-python",
   "name": "python",
   "nbconvert_exporter": "python",
   "pygments_lexer": "ipython3",
   "version": "3.12.3"
  }
 },
 "nbformat": 4,
 "nbformat_minor": 4
}
